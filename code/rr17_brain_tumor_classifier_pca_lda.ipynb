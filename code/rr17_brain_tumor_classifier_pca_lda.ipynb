{
  "nbformat": 4,
  "nbformat_minor": 0,
  "metadata": {
    "colab": {
      "provenance": [],
      "gpuType": "T4"
    },
    "kernelspec": {
      "name": "python3",
      "display_name": "Python 3"
    },
    "language_info": {
      "name": "python"
    },
    "accelerator": "GPU"
  },
  "cells": [
    {
      "cell_type": "code",
      "source": [
        "from google.colab import files\n",
        "import shutil\n",
        "from pathlib import Path\n",
        "import os\n",
        "\n",
        "# Upload kaggle.json file\n",
        "print(\"Please upload your kaggle.json file...\")\n",
        "uploaded = files.upload()\n",
        "\n",
        "# Kaggle config directory (API is expecting this path)\n",
        "kaggle_dir = Path.home() / \".config\" / \"kaggle\"\n",
        "kaggle_dir.mkdir(parents=True, exist_ok=True)\n",
        "\n",
        "# Move uploaded kaggle.json to the Kaggle config folder\n",
        "shutil.move(\"kaggle.json\", kaggle_dir / \"kaggle.json\")\n",
        "\n",
        "# Set correct permissions\n",
        "os.chmod(kaggle_dir / \"kaggle.json\", 0o600)\n",
        "\n",
        "print(\"✅ kaggle.json has been saved to\", kaggle_dir)\n"
      ],
      "metadata": {
        "id": "4ZBmPObCr8Vk"
      },
      "execution_count": null,
      "outputs": []
    },
    {
      "cell_type": "code",
      "source": [
        "from google.colab import files\n",
        "\n",
        "# Upload your Python file\n",
        "print(\"Please upload rr17_brain_tumor_classifier_pca.py ...\")\n",
        "print(\"Please upload rr17_brain_tumor_classifier_lda.py ...\")\n",
        "uploaded = files.upload()\n"
      ],
      "metadata": {
        "id": "qgxfbw7kyUAS"
      },
      "execution_count": null,
      "outputs": []
    },
    {
      "cell_type": "code",
      "source": [
        "# 1) Ensure Kaggle CLI\n",
        "!pip -q install -U kaggle\n",
        "\n",
        "# 2) Move creds from ~/.config/kaggle -> ~/.kaggle and set perms\n",
        "import os, shutil\n",
        "from pathlib import Path\n",
        "\n",
        "src = Path.home()/\".config\"/\"kaggle\"/\"kaggle.json\"\n",
        "dst_dir = Path.home()/\".kaggle\"\n",
        "dst = dst_dir/\"kaggle.json\"\n",
        "\n",
        "dst_dir.mkdir(parents=True, exist_ok=True)\n",
        "if src.exists():\n",
        "    shutil.copy(src, dst)\n",
        "    os.chmod(dst, 0o600)\n",
        "    print(\"✅ Moved kaggle.json to\", dst)\n",
        "else:\n",
        "    raise FileNotFoundError(\"kaggle.json not found at ~/.config/kaggle/\")\n",
        "\n",
        "# 3) Now run your script\n",
        "!python rr17_brain_tumor_classifier_lda.py --download --batch-size 64 --epochs 100 --folds 5\n",
        "\n",
        "# !python rr17_brain_tumor_classifier_pca.py --download --batch-size 64 --epochs 100 --folds 5"
      ],
      "metadata": {
        "id": "5bKjTZs_y4dX"
      },
      "execution_count": null,
      "outputs": []
    }
  ]
}